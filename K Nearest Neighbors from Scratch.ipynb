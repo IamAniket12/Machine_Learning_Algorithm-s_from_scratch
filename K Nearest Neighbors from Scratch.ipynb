{
 "cells": [
  {
   "cell_type": "code",
   "execution_count": 1,
   "metadata": {},
   "outputs": [],
   "source": [
    "import pandas as pd\n",
    "import numpy as np\n",
    "from random import shuffle\n",
    "from collections import Counter\n",
    "import matplotlib.pyplot as plt"
   ]
  },
  {
   "cell_type": "code",
   "execution_count": 2,
   "metadata": {},
   "outputs": [],
   "source": [
    "dataset = {'K':[[1,2],[2,3],[3,1]],'r':[[6,5],[7,7],[8,6]]}\n",
    "predict = [5,7]"
   ]
  },
  {
   "cell_type": "code",
   "execution_count": 3,
   "metadata": {},
   "outputs": [
    {
     "data": {
      "image/png": "[encoded data removed]",
      "text/plain": [
       "<matplotlib.figure.Figure at 0x1bdfd8a84a8>"
      ]
     },
     "metadata": {},
     "output_type": "display_data"
    }
   ],
   "source": [
    "[[plt.scatter(ii[0],ii[1],s=100,color=i) for ii in dataset[i]]for i in dataset]\n",
    "plt.scatter(predict[0],predict[1],s=80)\n",
    "plt.show()"
   ]
  },
  {
   "cell_type": "code",
   "execution_count": 25,
   "metadata": {},
   "outputs": [],
   "source": [
    "def k_nearest_neighbour(data,predict,k):\n",
    "    if len(data)>=k:\n",
    "        print('K is set to a value less than votin group')\n",
    "    Distance = []\n",
    "    for group in data:\n",
    "        for feature in data[group]:\n",
    "            euclidean_distance = np.linalg.norm(np.array(feature)-np.array(predict))\n",
    "            Distance.append([euclidean_distance,group])\n",
    "    votes = [ i[1] for i in sorted(Distance)[:k]]\n",
    "    #print(votes)\n",
    "    vote_result = Counter(votes).most_common(1)[0][0]\n",
    "    #print(vote_result)\n",
    "    return vote_result"
   ]
  },
  {
   "cell_type": "code",
   "execution_count": 16,
   "metadata": {},
   "outputs": [
    {
     "name": "stdout",
     "output_type": "stream",
     "text": [
      "r\n"
     ]
    }
   ],
   "source": [
    "result = k_nearest_neighbour(dataset,predict,3)\n",
    "print(result)"
   ]
  },
  {
   "cell_type": "code",
   "execution_count": 6,
   "metadata": {},
   "outputs": [
    {
     "data": {
      "image/png": "[encoded data removed]",
      "text/plain": [
       "<matplotlib.figure.Figure at 0x1bdfdbeeba8>"
      ]
     },
     "metadata": {},
     "output_type": "display_data"
    }
   ],
   "source": [
    "[[plt.scatter(ii[0],ii[1],s=100,color=i) for ii in dataset[i]]for i in dataset]\n",
    "plt.scatter(predict[0],predict[1],color=result,s=80)\n",
    "plt.show()"
   ]
  },
  {
   "cell_type": "markdown",
   "metadata": {},
   "source": [
    "# Applying K-Nearest Algorithm on Real Dataset"
   ]
  },
  {
   "cell_type": "code",
   "execution_count": 7,
   "metadata": {},
   "outputs": [
    {
     "data": {
      "text/html": [
       "<div>\n",
       "<style scoped>\n",
       "    .dataframe tbody tr th:only-of-type {\n",
       "        vertical-align: middle;\n",
       "    }\n",
       "\n",
       "    .dataframe tbody tr th {\n",
       "        vertical-align: top;\n",
       "    }\n",
       "\n",
       "    .dataframe thead th {\n",
       "        text-align: right;\n",
       "    }\n",
       "</style>\n",
       "<table border=\"1\" class=\"dataframe\">\n",
       "  <thead>\n",
       "    <tr style=\"text-align: right;\">\n",
       "      <th></th>\n",
       "      <th>id number</th>\n",
       "      <th>Clump Thickness</th>\n",
       "      <th>Uniformity of Cell Size</th>\n",
       "      <th>Uniformity of Cell Shape</th>\n",
       "      <th>Marginal Adhesion</th>\n",
       "      <th>Single Epithelial Cell Size</th>\n",
       "      <th>Bare Nuclei</th>\n",
       "      <th>Bland Chromatin</th>\n",
       "      <th>Normal Nucleoli</th>\n",
       "      <th>Mitoses</th>\n",
       "      <th>Class</th>\n",
       "    </tr>\n",
       "  </thead>\n",
       "  <tbody>\n",
       "    <tr>\n",
       "      <th>0</th>\n",
       "      <td>1000025</td>\n",
       "      <td>5</td>\n",
       "      <td>1</td>\n",
       "      <td>1</td>\n",
       "      <td>1</td>\n",
       "      <td>2</td>\n",
       "      <td>1</td>\n",
       "      <td>3</td>\n",
       "      <td>1</td>\n",
       "      <td>1</td>\n",
       "      <td>2</td>\n",
       "    </tr>\n",
       "    <tr>\n",
       "      <th>1</th>\n",
       "      <td>1002945</td>\n",
       "      <td>5</td>\n",
       "      <td>4</td>\n",
       "      <td>4</td>\n",
       "      <td>5</td>\n",
       "      <td>7</td>\n",
       "      <td>10</td>\n",
       "      <td>3</td>\n",
       "      <td>2</td>\n",
       "      <td>1</td>\n",
       "      <td>2</td>\n",
       "    </tr>\n",
       "    <tr>\n",
       "      <th>2</th>\n",
       "      <td>1015425</td>\n",
       "      <td>3</td>\n",
       "      <td>1</td>\n",
       "      <td>1</td>\n",
       "      <td>1</td>\n",
       "      <td>2</td>\n",
       "      <td>2</td>\n",
       "      <td>3</td>\n",
       "      <td>1</td>\n",
       "      <td>1</td>\n",
       "      <td>2</td>\n",
       "    </tr>\n",
       "    <tr>\n",
       "      <th>3</th>\n",
       "      <td>1016277</td>\n",
       "      <td>6</td>\n",
       "      <td>8</td>\n",
       "      <td>8</td>\n",
       "      <td>1</td>\n",
       "      <td>3</td>\n",
       "      <td>4</td>\n",
       "      <td>3</td>\n",
       "      <td>7</td>\n",
       "      <td>1</td>\n",
       "      <td>2</td>\n",
       "    </tr>\n",
       "    <tr>\n",
       "      <th>4</th>\n",
       "      <td>1017023</td>\n",
       "      <td>4</td>\n",
       "      <td>1</td>\n",
       "      <td>1</td>\n",
       "      <td>3</td>\n",
       "      <td>2</td>\n",
       "      <td>1</td>\n",
       "      <td>3</td>\n",
       "      <td>1</td>\n",
       "      <td>1</td>\n",
       "      <td>2</td>\n",
       "    </tr>\n",
       "  </tbody>\n",
       "</table>\n",
       "</div>"
      ],
      "text/plain": [
       "   id number  Clump Thickness  Uniformity of Cell Size  \\\n",
       "0    1000025                5                        1   \n",
       "1    1002945                5                        4   \n",
       "2    1015425                3                        1   \n",
       "3    1016277                6                        8   \n",
       "4    1017023                4                        1   \n",
       "\n",
       "   Uniformity of Cell Shape  Marginal Adhesion  Single Epithelial Cell Size  \\\n",
       "0                         1                  1                            2   \n",
       "1                         4                  5                            7   \n",
       "2                         1                  1                            2   \n",
       "3                         8                  1                            3   \n",
       "4                         1                  3                            2   \n",
       "\n",
       "  Bare Nuclei  Bland Chromatin  Normal Nucleoli  Mitoses  Class  \n",
       "0           1                3                1        1      2  \n",
       "1          10                3                2        1      2  \n",
       "2           2                3                1        1      2  \n",
       "3           4                3                7        1      2  \n",
       "4           1                3                1        1      2  "
      ]
     },
     "execution_count": 7,
     "metadata": {},
     "output_type": "execute_result"
    }
   ],
   "source": [
    "df = pd.read_csv('breast_cancer.csv')\n",
    "df.head()"
   ]
  },
  {
   "cell_type": "code",
   "execution_count": 8,
   "metadata": {},
   "outputs": [
    {
     "name": "stdout",
     "output_type": "stream",
     "text": [
      "[[5.0, 1.0, 1.0, 1.0, 2.0, 1.0, 3.0, 1.0, 1.0, 2.0], [5.0, 4.0, 4.0, 5.0, 7.0, 10.0, 3.0, 2.0, 1.0, 2.0], [3.0, 1.0, 1.0, 1.0, 2.0, 2.0, 3.0, 1.0, 1.0, 2.0], [6.0, 8.0, 8.0, 1.0, 3.0, 4.0, 3.0, 7.0, 1.0, 2.0], [4.0, 1.0, 1.0, 3.0, 2.0, 1.0, 3.0, 1.0, 1.0, 2.0]]\n"
     ]
    }
   ],
   "source": [
    "df.replace('?',-99999,inplace=True)\n",
    "df.drop(['id number'],1,inplace=True)\n",
    "full_data = df.astype('float').values.tolist()\n",
    "print(full_data[:5])"
   ]
  },
  {
   "cell_type": "code",
   "execution_count": 9,
   "metadata": {},
   "outputs": [
    {
     "name": "stdout",
     "output_type": "stream",
     "text": [
      "[[5.0, 6.0, 7.0, 8.0, 8.0, 10.0, 3.0, 10.0, 3.0, 4.0], [6.0, 3.0, 3.0, 3.0, 3.0, 2.0, 6.0, 1.0, 1.0, 2.0], [3.0, 1.0, 1.0, 4.0, 3.0, 1.0, 2.0, 2.0, 1.0, 2.0], [3.0, 1.0, 1.0, 1.0, 1.0, 1.0, 2.0, 1.0, 1.0, 2.0], [5.0, 1.0, 1.0, 2.0, 1.0, 1.0, 2.0, 1.0, 1.0, 2.0]]\n"
     ]
    }
   ],
   "source": [
    "shuffle(full_data)\n",
    "print(full_data[:5])"
   ]
  },
  {
   "cell_type": "code",
   "execution_count": 10,
   "metadata": {},
   "outputs": [
    {
     "name": "stdout",
     "output_type": "stream",
     "text": [
      "[[5.0, 6.0, 7.0, 8.0, 8.0, 10.0, 3.0, 10.0, 3.0, 4.0], [6.0, 3.0, 3.0, 3.0, 3.0, 2.0, 6.0, 1.0, 1.0, 2.0], [3.0, 1.0, 1.0, 4.0, 3.0, 1.0, 2.0, 2.0, 1.0, 2.0], [3.0, 1.0, 1.0, 1.0, 1.0, 1.0, 2.0, 1.0, 1.0, 2.0], [5.0, 1.0, 1.0, 2.0, 1.0, 1.0, 2.0, 1.0, 1.0, 2.0]]\n"
     ]
    }
   ],
   "source": [
    "test_size = 0.2\n",
    "train_set = {2:[],4:[]}\n",
    "test_set = {2:[],4:[]}\n",
    "\n",
    "train_data = full_data[:-int(test_size*len(full_data))]\n",
    "test_data = full_data[-int(test_size*len(full_data)):]\n",
    "print(train_data[:5])\n",
    "for i in train_data:\n",
    "    train_set[i[-1]].append(i[:-1])\n",
    "for i in test_data:\n",
    "    test_set[i[-1]].append(i[:-1])"
   ]
  },
  {
   "cell_type": "code",
   "execution_count": 11,
   "metadata": {},
   "outputs": [
    {
     "name": "stdout",
     "output_type": "stream",
     "text": [
      "{2: [[6.0, 3.0, 3.0, 3.0, 3.0, 2.0, 6.0, 1.0, 1.0], [3.0, 1.0, 1.0, 4.0, 3.0, 1.0, 2.0, 2.0, 1.0], [3.0, 1.0, 1.0, 1.0, 1.0, 1.0, 2.0, 1.0, 1.0], [5.0, 1.0, 1.0, 2.0, 1.0, 1.0, 2.0, 1.0, 1.0], [5.0, 4.0, 4.0, 5.0, 7.0, 10.0, 3.0, 2.0, 1.0], [1.0, 1.0, 2.0, 1.0, 3.0, -99999.0, 1.0, 1.0, 1.0], [5.0, 2.0, 2.0, 2.0, 2.0, 2.0, 3.0, 2.0, 2.0], [1.0, 1.0, 1.0, 1.0, 2.0, 1.0, 1.0, 1.0, 1.0], [6.0, 2.0, 3.0, 1.0, 2.0, 1.0, 1.0, 1.0, 1.0], [4.0, 1.0, 1.0, 1.0, 2.0, 1.0, 2.0, 1.0, 1.0], [4.0, 1.0, 2.0, 1.0, 2.0, 1.0, 2.0, 1.0, 1.0], [3.0, 1.0, 1.0, 1.0, 2.0, 1.0, 3.0, 1.0, 1.0], [1.0, 1.0, 1.0, 3.0, 2.0, 1.0, 1.0, 1.0, 1.0], [3.0, 1.0, 1.0, 2.0, 3.0, 4.0, 1.0, 1.0, 1.0], [3.0, 1.0, 1.0, 1.0, 2.0, 1.0, 2.0, 1.0, 1.0], [4.0, 3.0, 1.0, 1.0, 2.0, 1.0, 4.0, 8.0, 1.0], [1.0, 1.0, 1.0, 1.0, 2.0, 1.0, 3.0, 1.0, 1.0], [5.0, 1.0, 1.0, 1.0, 2.0, 1.0, 1.0, 1.0, 1.0], [3.0, 1.0, 1.0, 1.0, 2.0, 1.0, 2.0, 1.0, 1.0], [1.0, 1.0, 1.0, 1.0, 2.0, 1.0, 3.0, 1.0, 1.0], [2.0, 1.0, 1.0, 2.0, 2.0, 1.0, 3.0, 1.0, 1.0], [5.0, 4.0, 5.0, 1.0, 8.0, 1.0, 3.0, 6.0, 1.0], [1.0, 1.0, 1.0, 1.0, 1.0, 1.0, 3.0, 1.0, 1.0], [3.0, 1.0, 1.0, 1.0, 2.0, 1.0, 1.0, 1.0, 1.0], [3.0, 2.0, 2.0, 1.0, 4.0, 3.0, 2.0, 1.0, 1.0], [4.0, 4.0, 2.0, 1.0, 2.0, 5.0, 2.0, 1.0, 2.0], [3.0, 1.0, 2.0, 1.0, 2.0, 1.0, 2.0, 1.0, 1.0], [1.0, 1.0, 1.0, 1.0, 1.0, 1.0, 2.0, 1.0, 1.0], [2.0, 1.0, 1.0, 1.0, 2.0, 1.0, 3.0, 1.0, 1.0], [1.0, 2.0, 1.0, 3.0, 2.0, 1.0, 1.0, 2.0, 1.0], [4.0, 1.0, 1.0, 1.0, 1.0, 1.0, 2.0, 1.0, 1.0], [3.0, 1.0, 1.0, 1.0, 2.0, 2.0, 7.0, 1.0, 1.0], [3.0, 2.0, 1.0, 1.0, 2.0, 2.0, 3.0, 1.0, 1.0], [1.0, 1.0, 1.0, 1.0, 2.0, 1.0, 3.0, 1.0, 1.0], [2.0, 3.0, 2.0, 2.0, 2.0, 2.0, 3.0, 1.0, 1.0], [1.0, 1.0, 1.0, 1.0, 1.0, 1.0, 1.0, 3.0, 1.0], [1.0, 1.0, 2.0, 2.0, 2.0, 1.0, 3.0, 1.0, 1.0], [5.0, 1.0, 3.0, 1.0, 2.0, 1.0, 1.0, 1.0, 1.0], [1.0, 2.0, 2.0, 1.0, 2.0, 1.0, 2.0, 1.0, 1.0], [5.0, 1.0, 1.0, 1.0, 2.0, 1.0, 2.0, 1.0, 1.0], [4.0, 3.0, 3.0, 1.0, 2.0, 1.0, 3.0, 3.0, 1.0], [5.0, 1.0, 1.0, 1.0, 2.0, 1.0, 1.0, 1.0, 1.0], [3.0, 1.0, 1.0, 1.0, 2.0, 1.0, 3.0, 1.0, 1.0], [1.0, 3.0, 3.0, 2.0, 2.0, 1.0, 7.0, 2.0, 1.0], [5.0, 1.0, 1.0, 1.0, 2.0, 1.0, 3.0, 1.0, 1.0], [4.0, 1.0, 1.0, 1.0, 2.0, 1.0, 3.0, 1.0, 1.0], [1.0, 1.0, 1.0, 1.0, 2.0, 1.0, 1.0, 1.0, 1.0], [3.0, 1.0, 4.0, 1.0, 2.0, 1.0, 1.0, 1.0, 1.0], [4.0, 1.0, 1.0, 1.0, 2.0, 2.0, 3.0, 2.0, 1.0], [3.0, 1.0, 1.0, 1.0, 2.0, 1.0, 1.0, 1.0, 1.0], [2.0, 1.0, 1.0, 1.0, 1.0, 1.0, 3.0, 1.0, 1.0], [6.0, 6.0, 6.0, 9.0, 6.0, -99999.0, 7.0, 8.0, 1.0], [1.0, 1.0, 1.0, 1.0, 2.0, 1.0, 2.0, 1.0, 1.0], [1.0, 1.0, 1.0, 1.0, 1.0, 1.0, 1.0, 1.0, 1.0], [1.0, 1.0, 4.0, 1.0, 2.0, 1.0, 2.0, 1.0, 1.0], [1.0, 1.0, 1.0, 1.0, 2.0, 4.0, 1.0, 1.0, 1.0], [1.0, 1.0, 1.0, 1.0, 2.0, 1.0, 1.0, 1.0, 1.0], [1.0, 1.0, 1.0, 1.0, 2.0, 1.0, 3.0, 1.0, 1.0], [5.0, 1.0, 4.0, 1.0, 2.0, 1.0, 3.0, 2.0, 1.0], [6.0, 1.0, 1.0, 1.0, 2.0, 1.0, 3.0, 1.0, 1.0], [6.0, 1.0, 3.0, 2.0, 2.0, 1.0, 1.0, 1.0, 1.0], [5.0, 1.0, 1.0, 1.0, 2.0, 1.0, 2.0, 1.0, 1.0], [3.0, 1.0, 3.0, 1.0, 2.0, -99999.0, 2.0, 1.0, 1.0], [2.0, 1.0, 1.0, 1.0, 2.0, 1.0, 2.0, 1.0, 1.0], [3.0, 1.0, 1.0, 1.0, 2.0, 1.0, 1.0, 1.0, 1.0], [3.0, 1.0, 1.0, 1.0, 2.0, 1.0, 2.0, 1.0, 1.0], [1.0, 1.0, 1.0, 2.0, 1.0, 1.0, 1.0, 1.0, 1.0], [4.0, 2.0, 2.0, 1.0, 2.0, 1.0, 2.0, 1.0, 1.0], [1.0, 1.0, 2.0, 1.0, 2.0, 1.0, 2.0, 1.0, 1.0], [4.0, 3.0, 2.0, 1.0, 3.0, 1.0, 2.0, 1.0, 1.0], [1.0, 1.0, 1.0, 1.0, 2.0, 2.0, 1.0, 1.0, 1.0], [1.0, 1.0, 1.0, 1.0, 2.0, 1.0, 2.0, 1.0, 1.0], [4.0, 1.0, 1.0, 1.0, 2.0, 1.0, 2.0, 1.0, 1.0], [3.0, 1.0, 2.0, 1.0, 2.0, 1.0, 2.0, 1.0, 1.0], [5.0, 1.0, 1.0, 3.0, 2.0, 1.0, 1.0, 1.0, 1.0], [5.0, 1.0, 1.0, 1.0, 2.0, 1.0, 3.0, 1.0, 1.0], [5.0, 3.0, 6.0, 1.0, 2.0, 1.0, 1.0, 1.0, 1.0], [8.0, 3.0, 3.0, 1.0, 2.0, 2.0, 3.0, 2.0, 1.0], [3.0, 1.0, 1.0, 1.0, 1.0, 1.0, 1.0, 1.0, 1.0], [3.0, 1.0, 2.0, 1.0, 2.0, 1.0, 2.0, 1.0, 1.0], [4.0, 1.0, 1.0, 1.0, 2.0, 1.0, 1.0, 1.0, 1.0], [3.0, 1.0, 1.0, 1.0, 2.0, 1.0, 2.0, 1.0, 1.0], [5.0, 1.0, 1.0, 1.0, 2.0, 1.0, 3.0, 1.0, 2.0], [1.0, 1.0, 1.0, 1.0, 2.0, 1.0, 2.0, 1.0, 1.0], [1.0, 1.0, 1.0, 1.0, 2.0, 1.0, 1.0, 1.0, 1.0], [5.0, 1.0, 1.0, 4.0, 2.0, 1.0, 3.0, 1.0, 1.0], [5.0, 1.0, 1.0, 1.0, 2.0, 2.0, 2.0, 1.0, 1.0], [1.0, 1.0, 1.0, 1.0, 2.0, 1.0, 2.0, 1.0, 1.0], [2.0, 1.0, 1.0, 1.0, 2.0, 1.0, 2.0, 1.0, 1.0], [4.0, 1.0, 1.0, 1.0, 2.0, 1.0, 1.0, 1.0, 1.0], [6.0, 1.0, 3.0, 1.0, 2.0, 1.0, 3.0, 1.0, 1.0], [1.0, 1.0, 1.0, 1.0, 1.0, 1.0, 3.0, 1.0, 1.0], [2.0, 1.0, 2.0, 1.0, 2.0, 1.0, 3.0, 1.0, 1.0], [1.0, 1.0, 1.0, 1.0, 2.0, 1.0, 2.0, 1.0, 1.0], [1.0, 1.0, 1.0, 1.0, 2.0, 1.0, 3.0, 1.0, 1.0], [5.0, 2.0, 2.0, 2.0, 2.0, 1.0, 2.0, 2.0, 1.0], [1.0, 1.0, 1.0, 1.0, 10.0, 1.0, 1.0, 1.0, 1.0], [2.0, 1.0, 1.0, 2.0, 2.0, 1.0, 3.0, 1.0, 1.0], [2.0, 1.0, 1.0, 1.0, 2.0, 1.0, 3.0, 1.0, 1.0], [1.0, 1.0, 1.0, 1.0, 2.0, 1.0, 2.0, 1.0, 1.0], [1.0, 1.0, 1.0, 1.0, 2.0, 1.0, 1.0, 1.0, 1.0], [5.0, 2.0, 2.0, 2.0, 3.0, 1.0, 1.0, 3.0, 1.0], [4.0, 1.0, 1.0, 3.0, 1.0, 1.0, 2.0, 1.0, 1.0], [3.0, 1.0, 1.0, 1.0, 3.0, 1.0, 2.0, 1.0, 1.0], [6.0, 1.0, 1.0, 1.0, 2.0, 1.0, 3.0, 1.0, 1.0], [5.0, 3.0, 1.0, 1.0, 2.0, 1.0, 1.0, 1.0, 1.0], [2.0, 1.0, 1.0, 1.0, 2.0, 1.0, 2.0, 1.0, 1.0], [1.0, 1.0, 1.0, 1.0, 2.0, 1.0, 3.0, 1.0, 1.0], [1.0, 1.0, 1.0, 1.0, 2.0, 1.0, 1.0, 1.0, 1.0], [1.0, 1.0, 1.0, 1.0, 2.0, 1.0, 3.0, 1.0, 1.0], [1.0, 1.0, 1.0, 1.0, 2.0, 1.0, 3.0, 1.0, 1.0], [4.0, 1.0, 1.0, 1.0, 2.0, 1.0, 3.0, 1.0, 1.0], [2.0, 1.0, 1.0, 1.0, 2.0, 5.0, 1.0, 1.0, 1.0], [3.0, 1.0, 1.0, 1.0, 2.0, 1.0, 1.0, 1.0, 1.0], [3.0, 1.0, 2.0, 2.0, 2.0, 1.0, 1.0, 1.0, 1.0], [3.0, 1.0, 1.0, 1.0, 3.0, 1.0, 2.0, 1.0, 1.0], [3.0, 1.0, 1.0, 1.0, 2.0, 1.0, 2.0, 3.0, 1.0], [1.0, 1.0, 1.0, 1.0, 1.0, -99999.0, 1.0, 1.0, 1.0], [5.0, 1.0, 2.0, 10.0, 4.0, 5.0, 2.0, 1.0, 1.0], [6.0, 3.0, 3.0, 5.0, 3.0, 10.0, 3.0, 5.0, 3.0], [1.0, 1.0, 1.0, 1.0, 2.0, 1.0, 3.0, 1.0, 1.0], [4.0, 1.0, 1.0, 1.0, 2.0, 1.0, 3.0, 1.0, 1.0], [5.0, 1.0, 1.0, 1.0, 2.0, 1.0, 1.0, 1.0, 1.0], [1.0, 1.0, 2.0, 1.0, 2.0, 1.0, 2.0, 1.0, 1.0], [3.0, 1.0, 1.0, 3.0, 1.0, 1.0, 3.0, 1.0, 1.0], [5.0, 3.0, 2.0, 1.0, 3.0, 1.0, 1.0, 1.0, 1.0], [4.0, 1.0, 1.0, 1.0, 2.0, 1.0, 1.0, 1.0, 1.0], [1.0, 1.0, 1.0, 1.0, 2.0, 1.0, 1.0, 1.0, 1.0], [1.0, 1.0, 1.0, 1.0, 2.0, 1.0, 2.0, 1.0, 2.0], [2.0, 1.0, 1.0, 2.0, 2.0, 1.0, 1.0, 1.0, 1.0], [5.0, 1.0, 1.0, 1.0, 2.0, 1.0, 2.0, 1.0, 1.0], [1.0, 1.0, 1.0, 1.0, 2.0, 1.0, 1.0, 1.0, 1.0], [5.0, 3.0, 4.0, 3.0, 4.0, 5.0, 4.0, 7.0, 1.0], [4.0, 1.0, 1.0, 1.0, 2.0, 1.0, 3.0, 2.0, 1.0], [1.0, 1.0, 1.0, 1.0, 2.0, 2.0, 2.0, 1.0, 1.0], [4.0, 1.0, 1.0, 1.0, 2.0, 1.0, 3.0, 1.0, 1.0], [3.0, 1.0, 1.0, 1.0, 2.0, -99999.0, 3.0, 1.0, 1.0], [3.0, 1.0, 1.0, 1.0, 2.0, 1.0, 2.0, 1.0, 1.0], [5.0, 1.0, 2.0, 1.0, 2.0, 1.0, 1.0, 1.0, 1.0], [3.0, 1.0, 1.0, 1.0, 2.0, 1.0, 2.0, 1.0, 1.0], [5.0, 1.0, 1.0, 2.0, 2.0, 1.0, 2.0, 1.0, 1.0], [1.0, 2.0, 3.0, 1.0, 2.0, 1.0, 1.0, 1.0, 1.0], [3.0, 1.0, 1.0, 1.0, 2.0, -99999.0, 3.0, 1.0, 1.0], [2.0, 1.0, 1.0, 1.0, 2.0, 1.0, 1.0, 1.0, 1.0], [1.0, 1.0, 3.0, 1.0, 2.0, 1.0, 1.0, 1.0, 1.0], [1.0, 1.0, 3.0, 1.0, 2.0, 1.0, 2.0, 1.0, 1.0], [1.0, 1.0, 1.0, 1.0, 2.0, 1.0, 2.0, 1.0, 1.0], [3.0, 1.0, 1.0, 1.0, 2.0, 1.0, 2.0, 1.0, 1.0], [5.0, 2.0, 4.0, 1.0, 1.0, 1.0, 1.0, 1.0, 1.0], [4.0, 1.0, 1.0, 1.0, 2.0, 1.0, 2.0, 1.0, 1.0], [5.0, 1.0, 1.0, 3.0, 4.0, 1.0, 3.0, 2.0, 1.0], [3.0, 4.0, 5.0, 3.0, 7.0, 3.0, 4.0, 6.0, 1.0], [4.0, 1.0, 1.0, 1.0, 3.0, 1.0, 1.0, 1.0, 1.0], [1.0, 1.0, 1.0, 1.0, 2.0, 1.0, 2.0, 1.0, 1.0], [5.0, 1.0, 1.0, 1.0, 1.0, 1.0, 3.0, 1.0, 1.0], [5.0, 1.0, 1.0, 1.0, 2.0, 1.0, 3.0, 1.0, 1.0], [2.0, 1.0, 1.0, 1.0, 2.0, 1.0, 1.0, 1.0, 5.0], [1.0, 1.0, 1.0, 1.0, 3.0, 1.0, 1.0, 1.0, 1.0], [1.0, 1.0, 1.0, 1.0, 2.0, 1.0, 1.0, 1.0, 1.0], [6.0, 1.0, 1.0, 1.0, 1.0, 1.0, 1.0, 1.0, 1.0], [4.0, 1.0, 1.0, 1.0, 2.0, 1.0, 1.0, 2.0, 1.0], [1.0, 1.0, 1.0, 1.0, 2.0, 1.0, 3.0, 1.0, 1.0], [3.0, 1.0, 1.0, 1.0, 2.0, 1.0, 3.0, 1.0, 1.0], [4.0, 1.0, 1.0, 3.0, 2.0, 1.0, 3.0, 1.0, 1.0], [1.0, 1.0, 1.0, 1.0, 2.0, -99999.0, 2.0, 1.0, 1.0], [2.0, 1.0, 1.0, 1.0, 1.0, 1.0, 1.0, 1.0, 1.0], [2.0, 1.0, 1.0, 1.0, 2.0, 1.0, 2.0, 2.0, 1.0], [6.0, 1.0, 1.0, 1.0, 2.0, 1.0, 3.0, 1.0, 1.0], [5.0, 4.0, 3.0, 1.0, 2.0, -99999.0, 2.0, 3.0, 1.0], [4.0, 1.0, 1.0, 1.0, 2.0, 1.0, 1.0, 1.0, 1.0], [1.0, 1.0, 1.0, 1.0, 2.0, 10.0, 3.0, 1.0, 1.0], [1.0, 1.0, 1.0, 1.0, 2.0, 1.0, 2.0, 3.0, 1.0], [5.0, 1.0, 1.0, 1.0, 2.0, 1.0, 1.0, 1.0, 1.0], [4.0, 1.0, 1.0, 1.0, 2.0, 1.0, 3.0, 2.0, 1.0], [5.0, 1.0, 1.0, 1.0, 2.0, 1.0, 1.0, 1.0, 1.0], [5.0, 1.0, 1.0, 3.0, 2.0, 1.0, 1.0, 1.0, 1.0], [5.0, 1.0, 1.0, 1.0, 1.0, 1.0, 1.0, 1.0, 1.0], [2.0, 3.0, 1.0, 1.0, 2.0, 1.0, 2.0, 1.0, 1.0], [4.0, 1.0, 1.0, 1.0, 2.0, 1.0, 2.0, 1.0, 1.0], [3.0, 1.0, 1.0, 1.0, 2.0, 1.0, 1.0, 1.0, 1.0], [5.0, 1.0, 1.0, 1.0, 2.0, 1.0, 2.0, 1.0, 1.0], [5.0, 1.0, 3.0, 1.0, 2.0, 1.0, 2.0, 1.0, 1.0], [1.0, 3.0, 1.0, 1.0, 2.0, 1.0, 2.0, 2.0, 1.0], [1.0, 1.0, 1.0, 1.0, 2.0, 1.0, 1.0, 1.0, 1.0], [2.0, 1.0, 1.0, 1.0, 2.0, 1.0, 2.0, 1.0, 1.0], [5.0, 1.0, 1.0, 3.0, 2.0, 1.0, 1.0, 1.0, 1.0], [2.0, 3.0, 1.0, 1.0, 5.0, 1.0, 1.0, 1.0, 1.0], [3.0, 3.0, 2.0, 1.0, 3.0, 1.0, 3.0, 6.0, 1.0], [2.0, 1.0, 1.0, 1.0, 2.0, 1.0, 1.0, 1.0, 1.0], [1.0, 1.0, 1.0, 1.0, 2.0, 1.0, 1.0, 1.0, 1.0], [3.0, 1.0, 4.0, 1.0, 2.0, -99999.0, 3.0, 1.0, 1.0], [1.0, 1.0, 1.0, 1.0, 2.0, 3.0, 3.0, 1.0, 1.0], [3.0, 3.0, 1.0, 1.0, 2.0, 1.0, 1.0, 1.0, 1.0], [4.0, 1.0, 1.0, 1.0, 2.0, 1.0, 2.0, 1.0, 1.0], [6.0, 2.0, 1.0, 1.0, 1.0, 1.0, 7.0, 1.0, 1.0], [5.0, 1.0, 3.0, 1.0, 2.0, 1.0, 2.0, 1.0, 1.0], [4.0, 1.0, 1.0, 2.0, 2.0, 1.0, 2.0, 1.0, 1.0], [2.0, 1.0, 1.0, 1.0, 3.0, 1.0, 2.0, 1.0, 1.0], [4.0, 1.0, 1.0, 1.0, 2.0, 1.0, 3.0, 1.0, 1.0], [1.0, 1.0, 1.0, 2.0, 2.0, 1.0, 3.0, 1.0, 1.0], [5.0, 1.0, 1.0, 1.0, 2.0, -99999.0, 3.0, 1.0, 1.0], [3.0, 1.0, 1.0, 1.0, 2.0, 1.0, 3.0, 1.0, 1.0], [4.0, 1.0, 1.0, 2.0, 2.0, 1.0, 2.0, 1.0, 1.0], [5.0, 1.0, 1.0, 1.0, 2.0, 1.0, 1.0, 1.0, 1.0], [4.0, 1.0, 1.0, 1.0, 2.0, 1.0, 2.0, 1.0, 1.0], [4.0, 4.0, 4.0, 4.0, 6.0, 5.0, 7.0, 3.0, 1.0], [1.0, 1.0, 1.0, 1.0, 1.0, 1.0, 3.0, 1.0, 1.0], [1.0, 1.0, 1.0, 1.0, 2.0, 1.0, 1.0, 1.0, 1.0], [3.0, 1.0, 1.0, 1.0, 2.0, 1.0, 1.0, 1.0, 1.0], [1.0, 1.0, 1.0, 1.0, 2.0, 1.0, 3.0, 1.0, 1.0], [5.0, 1.0, 1.0, 1.0, 2.0, 1.0, 1.0, 1.0, 1.0], [4.0, 1.0, 4.0, 1.0, 2.0, 1.0, 1.0, 1.0, 1.0], [2.0, 1.0, 1.0, 1.0, 2.0, 1.0, 1.0, 1.0, 1.0], [4.0, 1.0, 1.0, 1.0, 2.0, 1.0, 3.0, 6.0, 1.0], [1.0, 3.0, 1.0, 2.0, 2.0, 2.0, 5.0, 3.0, 2.0], [1.0, 1.0, 1.0, 1.0, 5.0, 1.0, 3.0, 1.0, 1.0], [5.0, 3.0, 3.0, 1.0, 2.0, 1.0, 2.0, 1.0, 1.0], [5.0, 1.0, 1.0, 1.0, 2.0, 1.0, 2.0, 1.0, 1.0], [5.0, 1.0, 1.0, 1.0, 2.0, 1.0, 3.0, 1.0, 1.0], [5.0, 1.0, 3.0, 1.0, 2.0, 1.0, 2.0, 1.0, 1.0], [4.0, 6.0, 5.0, 6.0, 7.0, -99999.0, 4.0, 9.0, 1.0], [5.0, 1.0, 1.0, 1.0, 2.0, 1.0, 1.0, 1.0, 1.0], [5.0, 1.0, 1.0, 1.0, 2.0, 1.0, 2.0, 1.0, 1.0], [1.0, 2.0, 2.0, 1.0, 2.0, 1.0, 1.0, 1.0, 1.0], [1.0, 1.0, 1.0, 1.0, 2.0, 1.0, 1.0, 1.0, 1.0], [4.0, 1.0, 1.0, 1.0, 2.0, 1.0, 1.0, 1.0, 1.0], [1.0, 2.0, 2.0, 1.0, 2.0, 1.0, 1.0, 1.0, 1.0], [2.0, 1.0, 1.0, 1.0, 2.0, 1.0, 3.0, 1.0, 1.0], [3.0, 1.0, 1.0, 1.0, 3.0, 2.0, 1.0, 1.0, 1.0], [2.0, 3.0, 1.0, 1.0, 3.0, 1.0, 1.0, 1.0, 1.0], [1.0, 1.0, 1.0, 1.0, 2.0, 1.0, 1.0, 1.0, 1.0], [2.0, 1.0, 1.0, 2.0, 3.0, 1.0, 2.0, 1.0, 1.0], [4.0, 1.0, 1.0, 1.0, 2.0, 1.0, 1.0, 1.0, 1.0], [5.0, 1.0, 2.0, 1.0, 2.0, 1.0, 3.0, 1.0, 1.0], [1.0, 1.0, 1.0, 1.0, 2.0, 1.0, 3.0, 1.0, 1.0], [8.0, 4.0, 6.0, 3.0, 3.0, 1.0, 4.0, 3.0, 1.0], [4.0, 1.0, 1.0, 1.0, 2.0, 1.0, 3.0, 1.0, 1.0], [2.0, 1.0, 1.0, 1.0, 2.0, 1.0, 2.0, 1.0, 1.0], [1.0, 1.0, 1.0, 1.0, 2.0, 1.0, 2.0, 1.0, 1.0], [4.0, 1.0, 1.0, 1.0, 3.0, 1.0, 2.0, 2.0, 1.0], [1.0, 1.0, 1.0, 1.0, 1.0, 1.0, 2.0, 1.0, 1.0], [2.0, 2.0, 2.0, 1.0, 1.0, 1.0, 7.0, 1.0, 1.0], [3.0, 1.0, 1.0, 1.0, 2.0, 1.0, 2.0, 1.0, 1.0], [3.0, 2.0, 1.0, 1.0, 2.0, 1.0, 2.0, 2.0, 1.0], [1.0, 1.0, 1.0, 1.0, 3.0, 2.0, 2.0, 1.0, 1.0], [1.0, 1.0, 1.0, 1.0, 2.0, 1.0, 2.0, 1.0, 1.0], [1.0, 1.0, 1.0, 1.0, 2.0, 1.0, 1.0, 1.0, 8.0], [1.0, 1.0, 1.0, 1.0, 2.0, 1.0, 3.0, 1.0, 1.0], [5.0, 1.0, 1.0, 1.0, 2.0, 1.0, 3.0, 1.0, 1.0], [4.0, 1.0, 1.0, 1.0, 2.0, 1.0, 1.0, 1.0, 1.0], [1.0, 1.0, 1.0, 3.0, 2.0, 1.0, 1.0, 1.0, 1.0], [1.0, 1.0, 1.0, 1.0, 2.0, 1.0, 3.0, 1.0, 1.0], [1.0, 1.0, 1.0, 1.0, 2.0, 1.0, 3.0, 1.0, 1.0], [3.0, 3.0, 2.0, 1.0, 2.0, 3.0, 3.0, 1.0, 1.0], [1.0, 1.0, 1.0, 1.0, 2.0, 1.0, 2.0, 1.0, 1.0], [5.0, 1.0, 1.0, 1.0, 2.0, 1.0, 2.0, 1.0, 1.0], [5.0, 3.0, 4.0, 1.0, 4.0, 1.0, 3.0, 1.0, 1.0], [3.0, 2.0, 1.0, 2.0, 2.0, 1.0, 3.0, 1.0, 1.0], [4.0, 1.0, 1.0, 1.0, 2.0, 1.0, 3.0, 1.0, 1.0], [4.0, 1.0, 2.0, 1.0, 2.0, 1.0, 2.0, 1.0, 1.0], [3.0, 1.0, 1.0, 1.0, 1.0, 1.0, 2.0, 1.0, 1.0], [1.0, 1.0, 1.0, 1.0, 1.0, 1.0, 2.0, 1.0, 1.0], [2.0, 1.0, 1.0, 1.0, 2.0, 1.0, 1.0, 1.0, 1.0], [1.0, 1.0, 1.0, 1.0, 2.0, 1.0, 1.0, 1.0, 1.0], [3.0, 1.0, 1.0, 3.0, 8.0, 1.0, 5.0, 8.0, 1.0], [1.0, 1.0, 1.0, 1.0, 2.0, 1.0, 2.0, 1.0, 1.0], [3.0, 1.0, 1.0, 1.0, 2.0, 1.0, 2.0, 1.0, 1.0], [3.0, 1.0, 1.0, 1.0, 2.0, 1.0, 2.0, 1.0, 1.0], [3.0, 1.0, 1.0, 1.0, 2.0, 5.0, 1.0, 1.0, 1.0], [5.0, 1.0, 1.0, 6.0, 3.0, 1.0, 2.0, 1.0, 1.0], [5.0, 1.0, 1.0, 1.0, 2.0, 1.0, 3.0, 1.0, 1.0], [1.0, 2.0, 3.0, 1.0, 2.0, 1.0, 3.0, 1.0, 1.0], [2.0, 1.0, 1.0, 1.0, 2.0, 1.0, 1.0, 1.0, 1.0], [3.0, 1.0, 1.0, 1.0, 2.0, 1.0, 2.0, 1.0, 1.0], [4.0, 2.0, 1.0, 1.0, 2.0, 1.0, 1.0, 1.0, 1.0], [5.0, 1.0, 1.0, 1.0, 2.0, 1.0, 2.0, 2.0, 1.0], [3.0, 1.0, 1.0, 1.0, 2.0, 5.0, 5.0, 1.0, 1.0], [5.0, 1.0, 1.0, 6.0, 3.0, 1.0, 1.0, 1.0, 1.0], [3.0, 1.0, 1.0, 3.0, 2.0, 1.0, 2.0, 1.0, 1.0], [8.0, 4.0, 4.0, 5.0, 4.0, 7.0, 7.0, 8.0, 2.0], [3.0, 1.0, 1.0, 1.0, 2.0, 1.0, 2.0, 1.0, 1.0], [3.0, 1.0, 1.0, 1.0, 2.0, 1.0, 1.0, 1.0, 1.0], [1.0, 1.0, 1.0, 1.0, 2.0, 1.0, 3.0, 1.0, 1.0], [3.0, 1.0, 1.0, 1.0, 2.0, 2.0, 3.0, 1.0, 1.0], [4.0, 1.0, 1.0, 1.0, 2.0, 1.0, 1.0, 1.0, 1.0], [1.0, 1.0, 1.0, 1.0, 2.0, 1.0, 3.0, 2.0, 1.0], [3.0, 1.0, 1.0, 2.0, 2.0, 1.0, 1.0, 1.0, 1.0], [2.0, 1.0, 1.0, 1.0, 2.0, 1.0, 3.0, 1.0, 1.0], [3.0, 3.0, 2.0, 6.0, 3.0, 3.0, 3.0, 5.0, 1.0], [3.0, 1.0, 1.0, 2.0, 2.0, 1.0, 1.0, 1.0, 1.0], [3.0, 1.0, 1.0, 1.0, 2.0, 1.0, 3.0, 1.0, 1.0], [3.0, 2.0, 1.0, 1.0, 1.0, 1.0, 2.0, 1.0, 1.0], [7.0, 1.0, 2.0, 3.0, 2.0, 1.0, 2.0, 1.0, 1.0], [2.0, 1.0, 1.0, 1.0, 1.0, 1.0, 2.0, 1.0, 1.0], [1.0, 2.0, 3.0, 1.0, 2.0, 1.0, 2.0, 1.0, 1.0], [6.0, 1.0, 1.0, 1.0, 2.0, 1.0, 2.0, 1.0, 1.0], [2.0, 1.0, 1.0, 1.0, 3.0, 1.0, 2.0, 1.0, 1.0], [1.0, 1.0, 1.0, 1.0, 2.0, 1.0, 2.0, 1.0, 1.0], [6.0, 8.0, 8.0, 1.0, 3.0, 4.0, 3.0, 7.0, 1.0], [3.0, 1.0, 1.0, 1.0, 2.0, 1.0, 2.0, 1.0, 1.0], [5.0, 1.0, 1.0, 1.0, 2.0, 1.0, 3.0, 2.0, 1.0], [3.0, 1.0, 1.0, 1.0, 2.0, 1.0, 2.0, 1.0, 1.0], [4.0, 1.0, 2.0, 1.0, 2.0, 1.0, 2.0, 1.0, 1.0], [1.0, 1.0, 1.0, 3.0, 1.0, 3.0, 1.0, 1.0, 1.0], [5.0, 3.0, 1.0, 2.0, 2.0, 1.0, 2.0, 1.0, 1.0], [5.0, 1.0, 1.0, 1.0, 2.0, 1.0, 2.0, 1.0, 1.0], [1.0, 1.0, 1.0, 1.0, 2.0, 1.0, 3.0, 1.0, 1.0], [5.0, 2.0, 1.0, 1.0, 2.0, 1.0, 1.0, 1.0, 1.0], [3.0, 1.0, 1.0, 1.0, 2.0, 1.0, 2.0, 1.0, 1.0], [1.0, 1.0, 1.0, 1.0, 2.0, 1.0, 2.0, 1.0, 1.0], [6.0, 1.0, 1.0, 3.0, 2.0, 1.0, 1.0, 1.0, 1.0], [5.0, 3.0, 2.0, 4.0, 2.0, 1.0, 1.0, 1.0, 1.0], [3.0, 1.0, 1.0, 1.0, 2.0, 1.0, 3.0, 1.0, 1.0], [3.0, 2.0, 2.0, 2.0, 2.0, 1.0, 4.0, 2.0, 1.0], [6.0, 1.0, 1.0, 3.0, 2.0, 1.0, 1.0, 1.0, 1.0], [4.0, 1.0, 1.0, 1.0, 1.0, 1.0, 2.0, 1.0, 1.0], [4.0, 1.0, 1.0, 1.0, 2.0, 1.0, 1.0, 1.0, 1.0], [2.0, 1.0, 1.0, 1.0, 2.0, 1.0, 2.0, 1.0, 1.0], [1.0, 1.0, 1.0, 1.0, 2.0, 1.0, 3.0, 1.0, 1.0], [1.0, 1.0, 1.0, 1.0, 1.0, -99999.0, 2.0, 1.0, 1.0], [3.0, 2.0, 2.0, 3.0, 2.0, 1.0, 1.0, 1.0, 1.0], [1.0, 1.0, 1.0, 2.0, 2.0, 1.0, 2.0, 1.0, 1.0], [5.0, 1.0, 3.0, 1.0, 2.0, 1.0, 3.0, 1.0, 1.0], [5.0, 1.0, 1.0, 1.0, 2.0, 1.0, 2.0, 1.0, 1.0], [1.0, 1.0, 1.0, 1.0, 2.0, 1.0, 1.0, 1.0, 1.0], [1.0, 1.0, 1.0, 1.0, 1.0, 1.0, 3.0, 1.0, 1.0], [3.0, 1.0, 1.0, 1.0, 1.0, 1.0, 2.0, 1.0, 1.0], [2.0, 1.0, 3.0, 2.0, 2.0, 1.0, 2.0, 1.0, 1.0], [5.0, 2.0, 2.0, 2.0, 2.0, 1.0, 1.0, 1.0, 2.0], [2.0, 1.0, 1.0, 1.0, 2.0, 1.0, 1.0, 1.0, 1.0], [1.0, 1.0, 1.0, 1.0, 2.0, 5.0, 1.0, 1.0, 1.0], [3.0, 1.0, 1.0, 1.0, 2.0, 1.0, 3.0, 1.0, 1.0], [5.0, 1.0, 2.0, 1.0, 2.0, 1.0, 1.0, 1.0, 1.0], [2.0, 1.0, 1.0, 1.0, 2.0, 1.0, 1.0, 1.0, 1.0], [1.0, 1.0, 1.0, 1.0, 1.0, 1.0, 2.0, 1.0, 1.0], [5.0, 1.0, 1.0, 1.0, 2.0, 1.0, 2.0, 1.0, 1.0], [5.0, 2.0, 1.0, 1.0, 2.0, 1.0, 3.0, 1.0, 1.0], [1.0, 1.0, 3.0, 1.0, 2.0, 1.0, 1.0, 1.0, 1.0], [4.0, 1.0, 1.0, 1.0, 2.0, 1.0, 3.0, 1.0, 1.0], [5.0, 1.0, 2.0, 1.0, 2.0, 1.0, 3.0, 1.0, 1.0], [3.0, 1.0, 1.0, 1.0, 2.0, 1.0, 3.0, 1.0, 1.0], [1.0, 1.0, 3.0, 1.0, 2.0, 1.0, 2.0, 1.0, 1.0], [1.0, 1.0, 3.0, 1.0, 2.0, 1.0, 1.0, 1.0, 1.0], [1.0, 1.0, 1.0, 1.0, 4.0, 3.0, 1.0, 1.0, 1.0], [1.0, 1.0, 1.0, 1.0, 2.0, 1.0, 1.0, 1.0, 1.0], [1.0, 1.0, 3.0, 2.0, 2.0, 1.0, 3.0, 1.0, 1.0], [3.0, 1.0, 1.0, 3.0, 2.0, 1.0, 1.0, 1.0, 1.0], [1.0, 1.0, 1.0, 3.0, 2.0, 3.0, 1.0, 1.0, 1.0], [1.0, 1.0, 1.0, 1.0, 1.0, 1.0, 3.0, 1.0, 1.0], [4.0, 1.0, 1.0, 1.0, 2.0, 1.0, 2.0, 1.0, 1.0], [1.0, 1.0, 1.0, 1.0, 2.0, 1.0, 2.0, 1.0, 1.0], [4.0, 1.0, 3.0, 1.0, 2.0, 1.0, 2.0, 1.0, 1.0], [1.0, 1.0, 1.0, 1.0, 2.0, 1.0, 3.0, 1.0, 1.0], [1.0, 1.0, 1.0, 1.0, 2.0, 1.0, 1.0, 1.0, 1.0], [3.0, 1.0, 1.0, 1.0, 2.0, 1.0, 3.0, 1.0, 1.0], [2.0, 1.0, 1.0, 1.0, 2.0, 1.0, 1.0, 1.0, 1.0], [4.0, 2.0, 1.0, 1.0, 2.0, 1.0, 2.0, 1.0, 1.0], [1.0, 1.0, 1.0, 1.0, 2.0, 1.0, 2.0, 1.0, 1.0], [3.0, 2.0, 2.0, 1.0, 2.0, 1.0, 2.0, 3.0, 1.0], [1.0, 1.0, 1.0, 1.0, 1.0, 1.0, 3.0, 1.0, 1.0], [1.0, 1.0, 1.0, 1.0, 2.0, 1.0, 2.0, 1.0, 1.0], [5.0, 1.0, 1.0, 1.0, 2.0, 1.0, 2.0, 2.0, 1.0], [4.0, 1.0, 1.0, 1.0, 2.0, 1.0, 1.0, 1.0, 1.0], [3.0, 2.0, 2.0, 3.0, 2.0, 3.0, 3.0, 1.0, 1.0], [3.0, 1.0, 3.0, 1.0, 3.0, 4.0, 1.0, 1.0, 1.0], [1.0, 1.0, 1.0, 1.0, 1.0, 1.0, 2.0, 1.0, 1.0]], 4: [[5.0, 6.0, 7.0, 8.0, 8.0, 10.0, 3.0, 10.0, 3.0], [10.0, 10.0, 6.0, 3.0, 3.0, 10.0, 4.0, 3.0, 2.0], [10.0, 4.0, 5.0, 4.0, 3.0, 5.0, 7.0, 3.0, 1.0], [10.0, 8.0, 8.0, 4.0, 10.0, 10.0, 8.0, 1.0, 1.0], [9.0, 4.0, 5.0, 10.0, 6.0, 10.0, 4.0, 8.0, 1.0], [5.0, 3.0, 3.0, 3.0, 2.0, 3.0, 4.0, 4.0, 1.0], [8.0, 10.0, 10.0, 10.0, 7.0, 5.0, 4.0, 8.0, 7.0], [6.0, 8.0, 7.0, 5.0, 6.0, 8.0, 8.0, 9.0, 2.0], [7.0, 8.0, 3.0, 7.0, 4.0, 5.0, 7.0, 8.0, 2.0], [10.0, 10.0, 10.0, 10.0, 10.0, 1.0, 8.0, 8.0, 8.0], [7.0, 5.0, 3.0, 7.0, 4.0, 10.0, 7.0, 5.0, 5.0], [10.0, 8.0, 8.0, 2.0, 8.0, 10.0, 4.0, 8.0, 10.0], [9.0, 10.0, 10.0, 1.0, 10.0, 8.0, 3.0, 3.0, 1.0], [10.0, 10.0, 10.0, 6.0, 8.0, 4.0, 8.0, 5.0, 1.0], [8.0, 3.0, 4.0, 9.0, 3.0, 10.0, 3.0, 3.0, 1.0], [10.0, 10.0, 10.0, 10.0, 5.0, 10.0, 10.0, 10.0, 7.0], [7.0, 6.0, 6.0, 3.0, 2.0, 10.0, 7.0, 1.0, 1.0], [7.0, 3.0, 4.0, 4.0, 3.0, 3.0, 3.0, 2.0, 7.0], [10.0, 10.0, 8.0, 10.0, 6.0, 5.0, 10.0, 3.0, 1.0], [5.0, 4.0, 6.0, 7.0, 9.0, 7.0, 8.0, 10.0, 1.0], [10.0, 3.0, 6.0, 2.0, 3.0, 5.0, 4.0, 10.0, 2.0], [8.0, 10.0, 8.0, 8.0, 4.0, 8.0, 7.0, 7.0, 1.0], [8.0, 8.0, 9.0, 4.0, 5.0, 10.0, 7.0, 8.0, 1.0], [4.0, 2.0, 3.0, 5.0, 3.0, 8.0, 7.0, 6.0, 1.0], [6.0, 1.0, 3.0, 1.0, 4.0, 5.0, 5.0, 10.0, 1.0], [5.0, 2.0, 3.0, 1.0, 6.0, 10.0, 5.0, 1.0, 1.0], [6.0, 8.0, 7.0, 8.0, 6.0, 8.0, 8.0, 9.0, 1.0], [9.0, 6.0, 9.0, 2.0, 10.0, 6.0, 2.0, 9.0, 10.0], [8.0, 9.0, 9.0, 5.0, 3.0, 5.0, 7.0, 7.0, 1.0], [5.0, 6.0, 5.0, 6.0, 10.0, 1.0, 3.0, 1.0, 1.0], [10.0, 10.0, 10.0, 10.0, 3.0, 10.0, 10.0, 6.0, 1.0], [10.0, 2.0, 2.0, 1.0, 2.0, 6.0, 1.0, 1.0, 2.0], [8.0, 3.0, 5.0, 4.0, 5.0, 10.0, 1.0, 6.0, 2.0], [5.0, 3.0, 3.0, 4.0, 2.0, 4.0, 3.0, 4.0, 1.0], [10.0, 10.0, 10.0, 7.0, 9.0, 10.0, 7.0, 10.0, 10.0], [3.0, 3.0, 5.0, 2.0, 3.0, 10.0, 7.0, 1.0, 1.0], [5.0, 2.0, 3.0, 4.0, 2.0, 7.0, 3.0, 6.0, 1.0], [10.0, 4.0, 4.0, 6.0, 2.0, 10.0, 2.0, 3.0, 1.0], [8.0, 10.0, 10.0, 8.0, 5.0, 10.0, 7.0, 8.0, 1.0], [10.0, 4.0, 3.0, 1.0, 3.0, 3.0, 6.0, 5.0, 2.0], [8.0, 7.0, 5.0, 10.0, 7.0, 9.0, 5.0, 5.0, 4.0], [4.0, 10.0, 4.0, 7.0, 3.0, 10.0, 9.0, 10.0, 1.0], [4.0, 5.0, 5.0, 8.0, 6.0, 10.0, 10.0, 7.0, 1.0], [5.0, 4.0, 6.0, 8.0, 4.0, 1.0, 8.0, 10.0, 1.0], [4.0, 5.0, 5.0, 10.0, 4.0, 10.0, 7.0, 5.0, 8.0], [8.0, 5.0, 5.0, 5.0, 2.0, 10.0, 4.0, 3.0, 1.0], [5.0, 5.0, 5.0, 2.0, 5.0, 10.0, 4.0, 3.0, 1.0], [5.0, 10.0, 10.0, 10.0, 4.0, 10.0, 5.0, 6.0, 3.0], [8.0, 10.0, 10.0, 8.0, 7.0, 10.0, 9.0, 7.0, 1.0], [8.0, 7.0, 8.0, 7.0, 5.0, 5.0, 5.0, 10.0, 2.0], [9.0, 10.0, 10.0, 10.0, 10.0, 5.0, 10.0, 10.0, 10.0], [7.0, 8.0, 7.0, 2.0, 4.0, 8.0, 3.0, 8.0, 2.0], [3.0, 3.0, 6.0, 4.0, 5.0, 8.0, 4.0, 4.0, 1.0], [10.0, 4.0, 3.0, 10.0, 3.0, 10.0, 7.0, 1.0, 2.0], [10.0, 8.0, 10.0, 10.0, 6.0, 1.0, 3.0, 1.0, 10.0], [10.0, 8.0, 10.0, 1.0, 3.0, 10.0, 5.0, 1.0, 1.0], [9.0, 1.0, 2.0, 6.0, 4.0, 10.0, 7.0, 7.0, 2.0], [10.0, 10.0, 7.0, 8.0, 7.0, 1.0, 10.0, 10.0, 3.0], [10.0, 8.0, 7.0, 4.0, 3.0, 10.0, 7.0, 9.0, 1.0], [10.0, 10.0, 10.0, 10.0, 7.0, 10.0, 7.0, 10.0, 4.0], [5.0, 4.0, 6.0, 10.0, 2.0, 10.0, 4.0, 1.0, 1.0], [6.0, 5.0, 5.0, 8.0, 4.0, 10.0, 3.0, 4.0, 1.0], [10.0, 5.0, 5.0, 3.0, 6.0, 7.0, 7.0, 10.0, 1.0], [7.0, 5.0, 6.0, 3.0, 3.0, 8.0, 7.0, 4.0, 1.0], [6.0, 3.0, 2.0, 1.0, 3.0, 4.0, 4.0, 1.0, 1.0], [5.0, 8.0, 4.0, 10.0, 5.0, 8.0, 9.0, 10.0, 1.0], [8.0, 7.0, 8.0, 5.0, 10.0, 10.0, 7.0, 2.0, 1.0], [5.0, 3.0, 3.0, 3.0, 6.0, 10.0, 3.0, 1.0, 1.0], [10.0, 4.0, 4.0, 10.0, 2.0, 10.0, 5.0, 3.0, 3.0], [5.0, 10.0, 10.0, 10.0, 10.0, 10.0, 10.0, 1.0, 1.0], [4.0, 8.0, 6.0, 3.0, 4.0, 10.0, 7.0, 1.0, 1.0], [7.0, 5.0, 6.0, 10.0, 5.0, 10.0, 7.0, 9.0, 4.0], [2.0, 7.0, 10.0, 10.0, 7.0, 10.0, 4.0, 9.0, 4.0], [10.0, 4.0, 3.0, 10.0, 4.0, 10.0, 10.0, 1.0, 1.0], [10.0, 6.0, 6.0, 2.0, 4.0, 10.0, 9.0, 7.0, 1.0], [5.0, 6.0, 6.0, 8.0, 6.0, 10.0, 4.0, 10.0, 4.0], [10.0, 5.0, 10.0, 3.0, 5.0, 8.0, 7.0, 8.0, 3.0], [10.0, 7.0, 7.0, 4.0, 5.0, 10.0, 5.0, 7.0, 2.0], [5.0, 10.0, 10.0, 3.0, 7.0, 3.0, 8.0, 10.0, 2.0], [8.0, 4.0, 10.0, 5.0, 4.0, 4.0, 7.0, 10.0, 1.0], [10.0, 8.0, 4.0, 4.0, 4.0, 10.0, 3.0, 10.0, 4.0], [3.0, 4.0, 5.0, 2.0, 6.0, 8.0, 4.0, 1.0, 1.0], [6.0, 10.0, 10.0, 2.0, 8.0, 10.0, 7.0, 3.0, 3.0], [10.0, 5.0, 6.0, 10.0, 6.0, 10.0, 7.0, 7.0, 10.0], [8.0, 4.0, 4.0, 1.0, 2.0, 9.0, 3.0, 3.0, 1.0], [3.0, 3.0, 5.0, 2.0, 3.0, 10.0, 7.0, 1.0, 1.0], [5.0, 10.0, 10.0, 10.0, 10.0, 2.0, 10.0, 10.0, 10.0], [9.0, 9.0, 10.0, 3.0, 6.0, 10.0, 7.0, 10.0, 6.0], [10.0, 10.0, 8.0, 6.0, 4.0, 5.0, 8.0, 10.0, 1.0], [4.0, 7.0, 8.0, 3.0, 4.0, 10.0, 9.0, 1.0, 1.0], [5.0, 10.0, 6.0, 1.0, 10.0, 4.0, 4.0, 10.0, 10.0], [9.0, 5.0, 8.0, 1.0, 2.0, 3.0, 2.0, 1.0, 5.0], [10.0, 5.0, 8.0, 10.0, 3.0, 10.0, 5.0, 1.0, 3.0], [5.0, 5.0, 5.0, 8.0, 10.0, 8.0, 7.0, 3.0, 7.0], [8.0, 7.0, 8.0, 2.0, 4.0, 2.0, 5.0, 10.0, 1.0], [1.0, 5.0, 8.0, 6.0, 5.0, 8.0, 7.0, 10.0, 1.0], [8.0, 4.0, 7.0, 1.0, 3.0, 10.0, 3.0, 9.0, 2.0], [10.0, 6.0, 4.0, 1.0, 3.0, 4.0, 3.0, 2.0, 3.0], [7.0, 3.0, 2.0, 10.0, 5.0, 10.0, 5.0, 4.0, 4.0], [5.0, 7.0, 9.0, 8.0, 6.0, 10.0, 8.0, 10.0, 1.0], [5.0, 7.0, 10.0, 6.0, 5.0, 10.0, 7.0, 5.0, 1.0], [4.0, 8.0, 8.0, 5.0, 4.0, 5.0, 10.0, 4.0, 1.0], [9.0, 10.0, 10.0, 1.0, 10.0, 8.0, 3.0, 3.0, 1.0], [7.0, 8.0, 8.0, 7.0, 3.0, 10.0, 7.0, 2.0, 3.0], [10.0, 4.0, 5.0, 5.0, 5.0, 10.0, 4.0, 1.0, 1.0], [6.0, 10.0, 10.0, 10.0, 10.0, 10.0, 8.0, 10.0, 10.0], [10.0, 6.0, 6.0, 3.0, 4.0, 5.0, 3.0, 6.0, 1.0], [6.0, 5.0, 4.0, 4.0, 3.0, 9.0, 7.0, 8.0, 3.0], [8.0, 10.0, 10.0, 1.0, 3.0, 6.0, 3.0, 9.0, 1.0], [6.0, 10.0, 7.0, 7.0, 6.0, 4.0, 8.0, 10.0, 2.0], [5.0, 7.0, 4.0, 1.0, 6.0, 1.0, 7.0, 10.0, 3.0], [8.0, 7.0, 6.0, 4.0, 4.0, 10.0, 5.0, 1.0, 1.0], [7.0, 4.0, 7.0, 4.0, 3.0, 7.0, 7.0, 6.0, 1.0], [6.0, 6.0, 6.0, 5.0, 4.0, 10.0, 7.0, 6.0, 2.0], [10.0, 10.0, 10.0, 10.0, 10.0, 10.0, 4.0, 10.0, 10.0], [6.0, 10.0, 10.0, 10.0, 8.0, 10.0, 7.0, 10.0, 7.0], [5.0, 10.0, 10.0, 9.0, 6.0, 10.0, 7.0, 10.0, 5.0], [10.0, 7.0, 7.0, 6.0, 4.0, 10.0, 4.0, 1.0, 2.0], [8.0, 7.0, 4.0, 4.0, 5.0, 3.0, 5.0, 10.0, 1.0], [8.0, 6.0, 5.0, 4.0, 3.0, 10.0, 6.0, 1.0, 1.0], [8.0, 7.0, 8.0, 5.0, 5.0, 10.0, 9.0, 10.0, 1.0], [7.0, 4.0, 6.0, 4.0, 6.0, 1.0, 4.0, 3.0, 1.0], [3.0, 10.0, 7.0, 8.0, 5.0, 8.0, 7.0, 4.0, 1.0], [5.0, 8.0, 7.0, 7.0, 10.0, 10.0, 5.0, 7.0, 1.0], [9.0, 8.0, 8.0, 9.0, 6.0, 3.0, 4.0, 1.0, 1.0], [10.0, 10.0, 10.0, 8.0, 6.0, 1.0, 8.0, 9.0, 1.0], [3.0, 10.0, 8.0, 7.0, 6.0, 9.0, 9.0, 3.0, 8.0], [9.0, 10.0, 10.0, 10.0, 10.0, 10.0, 10.0, 10.0, 1.0], [10.0, 3.0, 5.0, 4.0, 3.0, 7.0, 3.0, 5.0, 3.0], [8.0, 6.0, 7.0, 3.0, 3.0, 10.0, 3.0, 4.0, 2.0], [10.0, 10.0, 10.0, 2.0, 10.0, 10.0, 5.0, 3.0, 3.0], [10.0, 10.0, 9.0, 3.0, 7.0, 5.0, 3.0, 5.0, 1.0], [10.0, 5.0, 5.0, 6.0, 3.0, 10.0, 7.0, 9.0, 2.0], [8.0, 10.0, 10.0, 10.0, 6.0, 10.0, 10.0, 10.0, 1.0], [3.0, 4.0, 4.0, 10.0, 5.0, 1.0, 3.0, 3.0, 1.0], [8.0, 4.0, 5.0, 1.0, 2.0, -99999.0, 7.0, 3.0, 1.0], [10.0, 3.0, 4.0, 5.0, 3.0, 10.0, 4.0, 1.0, 1.0], [10.0, 5.0, 5.0, 6.0, 8.0, 8.0, 7.0, 1.0, 1.0], [5.0, 8.0, 9.0, 4.0, 3.0, 10.0, 7.0, 1.0, 1.0], [5.0, 3.0, 5.0, 5.0, 3.0, 3.0, 4.0, 10.0, 1.0], [3.0, 6.0, 6.0, 6.0, 5.0, 10.0, 6.0, 8.0, 3.0], [4.0, 8.0, 6.0, 4.0, 3.0, 4.0, 10.0, 6.0, 1.0], [10.0, 10.0, 10.0, 1.0, 6.0, 1.0, 2.0, 8.0, 1.0], [8.0, 10.0, 10.0, 10.0, 8.0, 10.0, 10.0, 7.0, 3.0], [10.0, 4.0, 2.0, 1.0, 3.0, 2.0, 4.0, 3.0, 10.0], [10.0, 4.0, 3.0, 2.0, 3.0, 10.0, 5.0, 3.0, 2.0], [5.0, 3.0, 4.0, 1.0, 8.0, 10.0, 4.0, 9.0, 1.0], [10.0, 10.0, 10.0, 3.0, 10.0, 10.0, 9.0, 10.0, 1.0], [7.0, 4.0, 5.0, 10.0, 2.0, 10.0, 3.0, 8.0, 2.0], [8.0, 5.0, 6.0, 2.0, 3.0, 10.0, 6.0, 6.0, 1.0], [8.0, 10.0, 3.0, 2.0, 6.0, 4.0, 3.0, 10.0, 1.0], [5.0, 10.0, 10.0, 10.0, 6.0, 10.0, 6.0, 5.0, 2.0], [10.0, 4.0, 7.0, 2.0, 2.0, 8.0, 6.0, 1.0, 1.0], [2.0, 3.0, 4.0, 4.0, 2.0, 5.0, 2.0, 5.0, 1.0], [10.0, 10.0, 10.0, 3.0, 10.0, 8.0, 8.0, 1.0, 1.0], [10.0, 4.0, 6.0, 1.0, 2.0, 10.0, 5.0, 3.0, 1.0], [5.0, 10.0, 8.0, 10.0, 8.0, 10.0, 3.0, 6.0, 3.0], [5.0, 7.0, 10.0, 10.0, 5.0, 10.0, 10.0, 10.0, 1.0], [4.0, 6.0, 6.0, 5.0, 7.0, 6.0, 7.0, 7.0, 3.0], [4.0, 10.0, 8.0, 5.0, 4.0, 1.0, 10.0, 1.0, 1.0], [5.0, 6.0, 6.0, 2.0, 4.0, 10.0, 3.0, 6.0, 1.0], [7.0, 2.0, 4.0, 1.0, 6.0, 10.0, 5.0, 4.0, 3.0], [6.0, 10.0, 10.0, 2.0, 8.0, 10.0, 7.0, 3.0, 3.0], [10.0, 3.0, 3.0, 10.0, 2.0, 10.0, 7.0, 3.0, 3.0], [7.0, 6.0, 4.0, 8.0, 10.0, 10.0, 9.0, 5.0, 3.0], [8.0, 2.0, 4.0, 1.0, 5.0, 1.0, 5.0, 4.0, 4.0], [8.0, 10.0, 10.0, 10.0, 5.0, 10.0, 8.0, 10.0, 6.0], [5.0, 10.0, 10.0, 8.0, 5.0, 5.0, 7.0, 10.0, 1.0], [8.0, 8.0, 7.0, 4.0, 10.0, 10.0, 7.0, 8.0, 7.0], [2.0, 5.0, 3.0, 3.0, 6.0, 7.0, 7.0, 5.0, 1.0], [5.0, 10.0, 10.0, 3.0, 8.0, 1.0, 5.0, 10.0, 3.0], [5.0, 8.0, 8.0, 10.0, 5.0, 10.0, 8.0, 10.0, 3.0], [10.0, 3.0, 5.0, 1.0, 10.0, 5.0, 3.0, 10.0, 2.0], [2.0, 5.0, 7.0, 6.0, 4.0, 10.0, 7.0, 6.0, 1.0], [10.0, 6.0, 4.0, 3.0, 10.0, 10.0, 9.0, 10.0, 1.0], [8.0, 10.0, 10.0, 8.0, 6.0, 9.0, 3.0, 10.0, 10.0], [8.0, 6.0, 4.0, 3.0, 5.0, 9.0, 3.0, 1.0, 1.0], [5.0, 5.0, 5.0, 6.0, 3.0, 10.0, 3.0, 1.0, 1.0], [5.0, 10.0, 10.0, 6.0, 10.0, 10.0, 10.0, 6.0, 5.0], [10.0, 10.0, 10.0, 10.0, 6.0, 10.0, 8.0, 1.0, 5.0], [10.0, 1.0, 1.0, 1.0, 2.0, 10.0, 5.0, 4.0, 1.0], [4.0, 1.0, 1.0, 3.0, 1.0, 5.0, 2.0, 1.0, 1.0], [6.0, 10.0, 5.0, 5.0, 4.0, 10.0, 6.0, 10.0, 1.0], [10.0, 10.0, 10.0, 8.0, 6.0, 8.0, 7.0, 10.0, 1.0], [9.0, 8.0, 8.0, 5.0, 6.0, 2.0, 4.0, 10.0, 4.0], [8.0, 10.0, 10.0, 10.0, 6.0, 10.0, 10.0, 10.0, 10.0], [6.0, 10.0, 10.0, 10.0, 4.0, 10.0, 7.0, 10.0, 1.0], [5.0, 5.0, 7.0, 8.0, 6.0, 10.0, 7.0, 4.0, 1.0], [6.0, 10.0, 2.0, 8.0, 10.0, 2.0, 7.0, 8.0, 10.0], [8.0, 10.0, 4.0, 4.0, 8.0, 10.0, 8.0, 2.0, 1.0], [10.0, 9.0, 8.0, 7.0, 6.0, 4.0, 7.0, 10.0, 3.0], [7.0, 5.0, 6.0, 10.0, 4.0, 10.0, 5.0, 3.0, 1.0], [10.0, 10.0, 10.0, 7.0, 10.0, 10.0, 8.0, 2.0, 1.0], [7.0, 5.0, 10.0, 10.0, 10.0, 10.0, 4.0, 10.0, 3.0]]}\n",
      "{2: [[1.0, 1.0, 3.0, 1.0, 2.0, -99999.0, 2.0, 1.0, 1.0], [5.0, 1.0, 1.0, 1.0, 2.0, 2.0, 3.0, 3.0, 1.0], [4.0, 1.0, 1.0, 1.0, 2.0, 3.0, 1.0, 1.0, 1.0], [5.0, 1.0, 1.0, 2.0, 2.0, 2.0, 3.0, 1.0, 1.0], [6.0, 9.0, 7.0, 5.0, 5.0, 8.0, 4.0, 2.0, 1.0], [1.0, 1.0, 1.0, 1.0, 2.0, 1.0, 1.0, 1.0, 1.0], [8.0, 2.0, 1.0, 1.0, 5.0, 1.0, 1.0, 1.0, 1.0], [5.0, 2.0, 2.0, 4.0, 2.0, 4.0, 1.0, 1.0, 1.0], [1.0, 1.0, 1.0, 1.0, 1.0, -99999.0, 2.0, 1.0, 1.0], [3.0, 1.0, 1.0, 1.0, 2.0, 1.0, 2.0, 1.0, 1.0], [1.0, 1.0, 1.0, 1.0, 2.0, 1.0, 1.0, 1.0, 1.0], [3.0, 1.0, 1.0, 1.0, 2.0, 1.0, 2.0, 2.0, 1.0], [1.0, 1.0, 1.0, 2.0, 1.0, 3.0, 1.0, 1.0, 7.0], [4.0, 1.0, 2.0, 1.0, 2.0, 1.0, 3.0, 1.0, 1.0], [3.0, 1.0, 1.0, 1.0, 2.0, 1.0, 2.0, 1.0, 1.0], [3.0, 1.0, 1.0, 1.0, 2.0, 1.0, 2.0, 1.0, 1.0], [1.0, 1.0, 1.0, 1.0, 2.0, 1.0, 2.0, 1.0, 1.0], [1.0, 1.0, 1.0, 1.0, 2.0, 1.0, 1.0, 1.0, 1.0], [4.0, 1.0, 1.0, 1.0, 2.0, 1.0, 2.0, 1.0, 1.0], [5.0, 1.0, 1.0, 1.0, 2.0, 1.0, 3.0, 1.0, 1.0], [1.0, 1.0, 1.0, 1.0, 2.0, 1.0, 1.0, 1.0, 1.0], [3.0, 1.0, 1.0, 1.0, 1.0, 1.0, 2.0, 1.0, 1.0], [4.0, 2.0, 2.0, 1.0, 2.0, 1.0, 2.0, 1.0, 1.0], [1.0, 1.0, 1.0, 1.0, 1.0, 1.0, 1.0, 1.0, 1.0], [1.0, 1.0, 1.0, 1.0, 2.0, 1.0, 3.0, 1.0, 1.0], [1.0, 1.0, 1.0, 1.0, 2.0, 1.0, 3.0, 1.0, 1.0], [3.0, 1.0, 1.0, 1.0, 2.0, 3.0, 3.0, 1.0, 1.0], [3.0, 1.0, 1.0, 1.0, 2.0, 1.0, 3.0, 2.0, 1.0], [1.0, 1.0, 1.0, 1.0, 2.0, 5.0, 5.0, 1.0, 1.0], [4.0, 1.0, 3.0, 3.0, 2.0, 1.0, 1.0, 1.0, 1.0], [3.0, 1.0, 1.0, 1.0, 2.0, 1.0, 1.0, 1.0, 1.0], [1.0, 1.0, 1.0, 1.0, 2.0, 1.0, 3.0, 1.0, 1.0], [2.0, 1.0, 1.0, 1.0, 2.0, 1.0, 2.0, 1.0, 1.0], [3.0, 2.0, 2.0, 2.0, 2.0, 1.0, 3.0, 2.0, 1.0], [2.0, 1.0, 1.0, 1.0, 2.0, 1.0, 1.0, 1.0, 1.0], [5.0, 1.0, 3.0, 3.0, 2.0, 2.0, 2.0, 3.0, 1.0], [3.0, 1.0, 1.0, 1.0, 2.0, 1.0, 2.0, 1.0, 2.0], [1.0, 1.0, 1.0, 1.0, 2.0, 1.0, 1.0, 1.0, 1.0], [1.0, 1.0, 1.0, 1.0, 2.0, 1.0, 3.0, 1.0, 1.0], [4.0, 2.0, 1.0, 1.0, 2.0, 2.0, 3.0, 1.0, 1.0], [5.0, 1.0, 1.0, 1.0, 3.0, 2.0, 2.0, 2.0, 1.0], [3.0, 1.0, 1.0, 1.0, 2.0, 1.0, 1.0, 1.0, 1.0], [2.0, 1.0, 1.0, 1.0, 2.0, 1.0, 2.0, 1.0, 1.0], [3.0, 3.0, 2.0, 2.0, 3.0, 1.0, 1.0, 2.0, 3.0], [5.0, 1.0, 2.0, 1.0, 2.0, 1.0, 3.0, 1.0, 1.0], [5.0, 1.0, 2.0, 1.0, 2.0, 1.0, 2.0, 1.0, 1.0], [4.0, 1.0, 1.0, 3.0, 2.0, 1.0, 1.0, 1.0, 1.0], [2.0, 1.0, 1.0, 1.0, 2.0, 1.0, 1.0, 1.0, 1.0], [3.0, 1.0, 1.0, 1.0, 2.0, 1.0, 1.0, 1.0, 1.0], [2.0, 1.0, 1.0, 1.0, 2.0, 1.0, 3.0, 1.0, 1.0], [3.0, 1.0, 2.0, 1.0, 2.0, 1.0, 3.0, 1.0, 1.0], [5.0, 1.0, 1.0, 1.0, 2.0, 1.0, 2.0, 2.0, 1.0], [1.0, 1.0, 1.0, 1.0, 2.0, 5.0, 1.0, 1.0, 1.0], [1.0, 1.0, 1.0, 1.0, 2.0, 1.0, 2.0, 1.0, 1.0], [1.0, 1.0, 1.0, 1.0, 2.0, 1.0, 2.0, 1.0, 1.0], [3.0, 1.0, 1.0, 1.0, 2.0, 1.0, 1.0, 1.0, 1.0], [1.0, 1.0, 1.0, 1.0, 1.0, 1.0, 3.0, 1.0, 1.0], [5.0, 7.0, 7.0, 1.0, 5.0, 8.0, 3.0, 4.0, 1.0], [3.0, 1.0, 1.0, 1.0, 2.0, 1.0, 2.0, 1.0, 1.0], [5.0, 2.0, 2.0, 2.0, 1.0, 1.0, 2.0, 1.0, 1.0], [3.0, 1.0, 1.0, 1.0, 2.0, 4.0, 1.0, 1.0, 1.0], [1.0, 1.0, 1.0, 1.0, 2.0, 1.0, 2.0, 1.0, 1.0], [1.0, 1.0, 3.0, 1.0, 1.0, 1.0, 2.0, 1.0, 1.0], [1.0, 1.0, 1.0, 1.0, 1.0, 1.0, 1.0, 1.0, 1.0], [3.0, 1.0, 1.0, 1.0, 1.0, 1.0, 2.0, 1.0, 1.0], [2.0, 1.0, 1.0, 1.0, 2.0, 1.0, 3.0, 1.0, 1.0], [4.0, 1.0, 1.0, 1.0, 2.0, 1.0, 2.0, 1.0, 1.0], [3.0, 1.0, 1.0, 1.0, 2.0, 1.0, 3.0, 1.0, 1.0], [2.0, 1.0, 1.0, 1.0, 2.0, 1.0, 3.0, 1.0, 1.0], [4.0, 1.0, 1.0, 1.0, 2.0, 1.0, 3.0, 1.0, 1.0], [4.0, 1.0, 1.0, 3.0, 2.0, 1.0, 3.0, 1.0, 1.0], [4.0, 1.0, 1.0, 1.0, 2.0, 3.0, 2.0, 1.0, 1.0], [5.0, 1.0, 2.0, 1.0, 2.0, 1.0, 1.0, 1.0, 1.0], [1.0, 1.0, 1.0, 1.0, 2.0, 1.0, 1.0, 1.0, 1.0], [1.0, 1.0, 1.0, 1.0, 2.0, 1.0, 1.0, 1.0, 1.0], [4.0, 4.0, 4.0, 2.0, 2.0, 3.0, 2.0, 1.0, 1.0], [5.0, 3.0, 3.0, 2.0, 3.0, 1.0, 3.0, 1.0, 1.0], [3.0, 1.0, 1.0, 1.0, 2.0, 1.0, 2.0, 1.0, 1.0], [1.0, 1.0, 1.0, 1.0, 2.0, 1.0, 1.0, 1.0, 1.0], [1.0, 1.0, 1.0, 1.0, 1.0, 1.0, 1.0, 1.0, 1.0], [5.0, 1.0, 1.0, 1.0, 2.0, 1.0, 1.0, 1.0, 1.0], [1.0, 1.0, 2.0, 1.0, 2.0, 2.0, 4.0, 2.0, 1.0], [1.0, 2.0, 1.0, 3.0, 2.0, 1.0, 2.0, 1.0, 1.0], [3.0, 1.0, 1.0, 1.0, 2.0, 1.0, 1.0, 1.0, 1.0], [4.0, 2.0, 4.0, 3.0, 2.0, 2.0, 2.0, 1.0, 1.0], [5.0, 1.0, 1.0, 3.0, 2.0, 1.0, 1.0, 1.0, 1.0], [4.0, 1.0, 2.0, 1.0, 2.0, 1.0, 1.0, 1.0, 1.0], [4.0, 1.0, 1.0, 2.0, 2.0, 1.0, 1.0, 1.0, 1.0], [4.0, 1.0, 1.0, 1.0, 2.0, 1.0, 2.0, 1.0, 1.0], [2.0, 1.0, 1.0, 1.0, 2.0, 1.0, 3.0, 1.0, 1.0], [1.0, 1.0, 1.0, 1.0, 2.0, 1.0, 1.0, 1.0, 1.0], [2.0, 1.0, 1.0, 1.0, 2.0, 1.0, 3.0, 1.0, 1.0]], 4: [[1.0, 4.0, 3.0, 10.0, 4.0, 10.0, 5.0, 6.0, 1.0], [10.0, 5.0, 7.0, 4.0, 4.0, 10.0, 8.0, 9.0, 1.0], [7.0, 9.0, 4.0, 10.0, 10.0, 3.0, 5.0, 3.0, 3.0], [5.0, 10.0, 10.0, 10.0, 5.0, 2.0, 8.0, 5.0, 1.0], [7.0, 6.0, 3.0, 2.0, 5.0, 10.0, 7.0, 4.0, 6.0], [7.0, 6.0, 10.0, 5.0, 3.0, 10.0, 9.0, 10.0, 2.0], [10.0, 10.0, 10.0, 4.0, 8.0, 1.0, 8.0, 10.0, 1.0], [9.0, 7.0, 7.0, 5.0, 5.0, 10.0, 7.0, 8.0, 3.0], [6.0, 3.0, 4.0, 1.0, 5.0, 2.0, 3.0, 9.0, 1.0], [1.0, 6.0, 8.0, 10.0, 8.0, 10.0, 5.0, 7.0, 1.0], [3.0, 6.0, 4.0, 10.0, 3.0, 3.0, 3.0, 4.0, 1.0], [8.0, 10.0, 5.0, 3.0, 8.0, 4.0, 4.0, 10.0, 3.0], [5.0, 4.0, 6.0, 6.0, 4.0, 10.0, 4.0, 3.0, 1.0], [8.0, 8.0, 9.0, 6.0, 6.0, 3.0, 10.0, 10.0, 1.0], [10.0, 4.0, 6.0, 4.0, 5.0, 10.0, 7.0, 1.0, 1.0], [8.0, 4.0, 4.0, 1.0, 6.0, 10.0, 2.0, 5.0, 2.0], [5.0, 10.0, 10.0, 5.0, 4.0, 5.0, 4.0, 4.0, 1.0], [10.0, 6.0, 3.0, 6.0, 4.0, 10.0, 7.0, 8.0, 4.0], [5.0, 4.0, 4.0, 9.0, 2.0, 10.0, 5.0, 6.0, 1.0], [10.0, 6.0, 5.0, 8.0, 5.0, 10.0, 8.0, 6.0, 1.0], [10.0, 5.0, 7.0, 3.0, 3.0, 7.0, 3.0, 3.0, 8.0], [6.0, 10.0, 10.0, 10.0, 8.0, 10.0, 10.0, 10.0, 7.0], [5.0, 8.0, 8.0, 8.0, 5.0, 10.0, 7.0, 8.0, 1.0], [10.0, 8.0, 8.0, 2.0, 3.0, 4.0, 8.0, 7.0, 8.0], [10.0, 7.0, 7.0, 3.0, 8.0, 5.0, 7.0, 4.0, 3.0], [3.0, 10.0, 3.0, 10.0, 6.0, 10.0, 5.0, 1.0, 4.0], [7.0, 8.0, 7.0, 6.0, 4.0, 3.0, 8.0, 8.0, 4.0], [9.0, 5.0, 5.0, 4.0, 4.0, 5.0, 4.0, 3.0, 3.0], [8.0, 6.0, 4.0, 10.0, 10.0, 1.0, 3.0, 5.0, 1.0], [3.0, 7.0, 7.0, 4.0, 4.0, 9.0, 4.0, 8.0, 1.0], [3.0, 5.0, 7.0, 8.0, 8.0, 9.0, 7.0, 10.0, 7.0], [9.0, 5.0, 5.0, 2.0, 2.0, 2.0, 5.0, 1.0, 1.0], [10.0, 4.0, 4.0, 10.0, 6.0, 10.0, 5.0, 5.0, 1.0], [7.0, 2.0, 4.0, 1.0, 3.0, 4.0, 3.0, 3.0, 1.0], [5.0, 3.0, 5.0, 1.0, 8.0, 10.0, 5.0, 3.0, 1.0], [5.0, 3.0, 3.0, 1.0, 3.0, 3.0, 3.0, 3.0, 3.0], [4.0, 8.0, 7.0, 10.0, 4.0, 10.0, 7.0, 5.0, 1.0], [6.0, 6.0, 7.0, 10.0, 3.0, 10.0, 8.0, 10.0, 2.0], [10.0, 10.0, 10.0, 8.0, 2.0, 10.0, 4.0, 1.0, 1.0], [8.0, 3.0, 8.0, 3.0, 4.0, 9.0, 8.0, 9.0, 8.0], [8.0, 10.0, 10.0, 7.0, 10.0, 10.0, 7.0, 3.0, 8.0], [7.0, 4.0, 4.0, 3.0, 4.0, 10.0, 6.0, 9.0, 1.0], [10.0, 3.0, 3.0, 1.0, 2.0, 10.0, 7.0, 6.0, 1.0], [8.0, 2.0, 3.0, 1.0, 6.0, 3.0, 7.0, 1.0, 1.0], [5.0, 3.0, 2.0, 8.0, 5.0, 10.0, 8.0, 1.0, 2.0], [10.0, 9.0, 7.0, 3.0, 4.0, 2.0, 7.0, 7.0, 1.0], [8.0, 8.0, 8.0, 1.0, 2.0, -99999.0, 6.0, 10.0, 1.0]]}\n"
     ]
    }
   ],
   "source": [
    "print(train_set)\n",
    "print(test_set)"
   ]
  },
  {
   "cell_type": "code",
   "execution_count": 30,
   "metadata": {},
   "outputs": [
    {
     "name": "stdout",
     "output_type": "stream",
     "text": [
      "Accuracy 0.9782608695652174\n"
     ]
    }
   ],
   "source": [
    "correct = 0\n",
    "total = 0\n",
    "for groups in test_set:\n",
    "    for datas in test_set[group]:\n",
    "        #print(datas)\n",
    "        vote = k_nearest_neighbour(train_set,datas,3)\n",
    "        if vote == group:\n",
    "            correct +=1\n",
    "        total += 1    \n",
    "print('Accuracy',correct/total)        "
   ]
  },
  {
   "cell_type": "code",
   "execution_count": null,
   "metadata": {},
   "outputs": [],
   "source": []
  },
  {
   "cell_type": "code",
   "execution_count": null,
   "metadata": {},
   "outputs": [],
   "source": []
  }
 ],
 "metadata": {
  "kernelspec": {
   "display_name": "Python 3",
   "language": "python",
   "name": "python3"
  },
  "language_info": {
   "codemirror_mode": {
    "name": "ipython",
    "version": 3
   },
   "file_extension": ".py",
   "mimetype": "text/x-python",
   "name": "python",
   "nbconvert_exporter": "python",
   "pygments_lexer": "ipython3",
   "version": "3.6.4"
  }
 },
 "nbformat": 4,
 "nbformat_minor": 2
}
